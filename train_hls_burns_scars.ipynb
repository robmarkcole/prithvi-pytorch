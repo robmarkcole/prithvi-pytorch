{
 "cells": [
  {
   "cell_type": "code",
   "execution_count": 1,
   "metadata": {},
   "outputs": [],
   "source": [
    "import lightning\n",
    "import torch\n",
    "import torch.nn as nn\n",
    "import segmentation_models_pytorch as smp\n",
    "import matplotlib.pyplot as plt\n",
    "from torchmetrics import MetricCollection\n",
    "from torchmetrics.classification import Accuracy, FBetaScore, JaccardIndex\n",
    "from torchmetrics.wrappers import ClasswiseWrapper\n",
    "\n",
    "from lightning.pytorch.loggers import WandbLogger\n",
    "\n",
    "from torchgeo.trainers import SemanticSegmentationTask\n",
    "from torchgeo.datasets.utils import RGBBandsMissingError, unbind_samples\n",
    "\n",
    "from prithvi_pytorch import PrithviEncoderDecoder\n",
    "from prithvi_pytorch.datasets import HLSBurnScarsDataModule\n",
    "\n",
    "CKPT_PATH = \"weights/Prithvi_100M.pt\"\n",
    "CFG_PATH = \"weights/Prithvi_100M_config.yaml\""
   ]
  },
  {
   "cell_type": "code",
   "execution_count": 5,
   "metadata": {},
   "outputs": [],
   "source": [
    "import os\n",
    "os.chdir(\"/teamspace/studios/this_studio/prithvi-pytorch\") # make sure we are in the repo"
   ]
  },
  {
   "cell_type": "code",
   "execution_count": 6,
   "metadata": {},
   "outputs": [],
   "source": [
    "class FocalJaccardLoss(nn.Module):\n",
    "    def __init__(self):\n",
    "        super().__init__()\n",
    "        self.ce_loss = smp.losses.FocalLoss(mode=\"multiclass\", normalized=True)\n",
    "        self.jaccard_loss = smp.losses.JaccardLoss(mode=\"multiclass\")\n",
    "\n",
    "    def forward(self, preds: torch.Tensor, targets: torch.Tensor) -> torch.Tensor:\n",
    "        return self.ce_loss(preds, targets) + self.jaccard_loss(preds, targets)\n",
    "\n",
    "\n",
    "class PrithviSegmentationTask(SemanticSegmentationTask):\n",
    "    def configure_losses(self):\n",
    "        self.criterion = FocalJaccardLoss()\n",
    "\n",
    "    def configure_metrics(self):\n",
    "        num_classes = self.hparams[\"num_classes\"]\n",
    "        ignore_index = self.hparams[\"ignore_index\"]\n",
    "\n",
    "        self.train_metrics = MetricCollection(\n",
    "            {\n",
    "                \"OverallAccuracy\": Accuracy(\n",
    "                    task=\"multiclass\",\n",
    "                    num_classes=num_classes,\n",
    "                    average=\"micro\",\n",
    "                    multidim_average=\"global\",\n",
    "                ),\n",
    "                \"OverallF1Score\": FBetaScore(\n",
    "                    task=\"multiclass\",\n",
    "                    num_classes=num_classes,\n",
    "                    beta=1.0,\n",
    "                    average=\"micro\",\n",
    "                    multidim_average=\"global\",\n",
    "                ),\n",
    "                \"OverallIoU\": JaccardIndex(\n",
    "                    task=\"multiclass\",\n",
    "                    num_classes=num_classes,\n",
    "                    ignore_index=ignore_index,\n",
    "                    average=\"micro\",\n",
    "                ),\n",
    "                \"AverageAccuracy\": Accuracy(\n",
    "                    task=\"multiclass\",\n",
    "                    num_classes=num_classes,\n",
    "                    average=\"macro\",\n",
    "                    multidim_average=\"global\",\n",
    "                ),\n",
    "                \"AverageF1Score\": FBetaScore(\n",
    "                    task=\"multiclass\",\n",
    "                    num_classes=num_classes,\n",
    "                    beta=1.0,\n",
    "                    average=\"macro\",\n",
    "                    multidim_average=\"global\",\n",
    "                ),\n",
    "                \"AverageIoU\": JaccardIndex(\n",
    "                    task=\"multiclass\",\n",
    "                    num_classes=num_classes,\n",
    "                    ignore_index=ignore_index,\n",
    "                    average=\"macro\",\n",
    "                ),\n",
    "                \"Accuracy\": ClasswiseWrapper(\n",
    "                    Accuracy(\n",
    "                        task=\"multiclass\",\n",
    "                        num_classes=num_classes,\n",
    "                        average=\"none\",\n",
    "                        multidim_average=\"global\",\n",
    "                    ),\n",
    "                ),\n",
    "                \"F1Score\": ClasswiseWrapper(\n",
    "                    FBetaScore(\n",
    "                        task=\"multiclass\",\n",
    "                        num_classes=num_classes,\n",
    "                        beta=1.0,\n",
    "                        average=\"none\",\n",
    "                        multidim_average=\"global\",\n",
    "                    ),\n",
    "                ),\n",
    "                \"IoU\": ClasswiseWrapper(\n",
    "                    JaccardIndex(\n",
    "                        task=\"multiclass\", num_classes=num_classes, average=\"none\"\n",
    "                    ),\n",
    "                ),\n",
    "            },\n",
    "            prefix=\"train_\",\n",
    "        )\n",
    "        self.val_metrics = self.train_metrics.clone(prefix=\"val_\")\n",
    "        self.test_metrics = self.train_metrics.clone(prefix=\"test_\")\n",
    "\n",
    "    def configure_models(self):\n",
    "        self.model = PrithviEncoderDecoder(\n",
    "            num_classes=self.hparams[\"num_classes\"],\n",
    "            cfg_path=CFG_PATH,\n",
    "            ckpt_path=CKPT_PATH,\n",
    "            in_chans=self.hparams[\"in_channels\"],\n",
    "            img_size=224,\n",
    "            freeze_encoder=False,\n",
    "            num_neck_filters=32,\n",
    "        )\n",
    "\n",
    "    def training_step(self, batch, batch_idx, dataloader_idx=0):\n",
    "        x = batch[\"image\"]\n",
    "        y = batch[\"mask\"]\n",
    "        y_hat = self(x)\n",
    "        y_hat_hard = y_hat.argmax(dim=1)\n",
    "        loss = self.criterion(y_hat, y)\n",
    "        self.log(\"train_loss\", loss)\n",
    "        self.train_metrics(y_hat_hard, y)\n",
    "        self.log_dict({f\"{k}\": v for k, v in self.train_metrics.compute().items()})\n",
    "        return loss\n",
    "\n",
    "    def validation_step(self, batch, batch_idx, dataloader_idx=0):\n",
    "        x = batch[\"image\"]\n",
    "        y = batch[\"mask\"]\n",
    "        y_hat = self(x)\n",
    "        y_hat_hard = y_hat.argmax(dim=1)\n",
    "        loss = self.criterion(y_hat, y)\n",
    "        self.log(\"val_loss\", loss)\n",
    "        self.val_metrics(y_hat_hard, y)\n",
    "        self.log_dict({f\"{k}\": v for k, v in self.val_metrics.compute().items()})\n",
    "\n",
    "        # Plot samples\n",
    "        if (\n",
    "            batch_idx < 10\n",
    "            and hasattr(self.trainer, \"datamodule\")\n",
    "            and hasattr(self.trainer.datamodule, \"plot\")\n",
    "            and self.logger\n",
    "            and hasattr(self.logger, \"experiment\")\n",
    "            and hasattr(self.logger.experiment, \"add_figure\")\n",
    "        ):\n",
    "            datamodule = self.trainer.datamodule\n",
    "            batch[\"prediction\"] = y_hat_hard\n",
    "            for key in [\"image\", \"mask\", \"prediction\"]:\n",
    "                batch[key] = batch[key].cpu()\n",
    "            sample = unbind_samples(batch)[0]\n",
    "\n",
    "            fig = None\n",
    "            try:\n",
    "                fig = datamodule.plot(sample)\n",
    "            except RGBBandsMissingError:\n",
    "                pass\n",
    "\n",
    "            if fig:\n",
    "                summary_writer = self.logger.experiment\n",
    "                summary_writer.add_figure(\n",
    "                    f\"image/{batch_idx}\", fig, global_step=self.global_step\n",
    "                )\n",
    "                plt.close()\n",
    "\n",
    "    def test_step(self, batch, batch_idx, dataloader_idx=0):\n",
    "        x = batch[\"image\"]\n",
    "        y = batch[\"mask\"]\n",
    "        y_hat = self(x)\n",
    "        y_hat_hard = y_hat.argmax(dim=1)\n",
    "        loss = self.criterion(y_hat, y)\n",
    "        self.log(\"test_loss\", loss)\n",
    "        self.test_metrics(y_hat_hard, y)\n",
    "        self.log_dict({f\"{k}\": v for k, v in self.test_metrics.compute().items()})"
   ]
  },
  {
   "cell_type": "code",
   "execution_count": 9,
   "metadata": {},
   "outputs": [],
   "source": [
    "module = PrithviSegmentationTask(in_channels=6, num_classes=2, lr=1e-4, patience=10)\n",
    "datamodule = HLSBurnScarsDataModule(\n",
    "    root=\"data/hls_burn_scars\",\n",
    "    batch_size=8,\n",
    "    num_workers=8,\n",
    ")\n",
    "\n",
    "datamodule.setup('fit')\n",
    "datamodule.setup('test')"
   ]
  },
  {
   "cell_type": "code",
   "execution_count": 10,
   "metadata": {},
   "outputs": [
    {
     "data": {
      "text/plain": [
       "540"
      ]
     },
     "execution_count": 10,
     "metadata": {},
     "output_type": "execute_result"
    }
   ],
   "source": [
    "len(datamodule.train_dataset)"
   ]
  },
  {
   "cell_type": "code",
   "execution_count": 11,
   "metadata": {},
   "outputs": [
    {
     "data": {
      "text/plain": [
       "264"
      ]
     },
     "execution_count": 11,
     "metadata": {},
     "output_type": "execute_result"
    }
   ],
   "source": [
    "len(datamodule.val_dataset)"
   ]
  },
  {
   "cell_type": "code",
   "execution_count": 12,
   "metadata": {},
   "outputs": [
    {
     "data": {
      "text/plain": [
       "264"
      ]
     },
     "execution_count": 12,
     "metadata": {},
     "output_type": "execute_result"
    }
   ],
   "source": [
    "len(datamodule.test_dataset)"
   ]
  },
  {
   "cell_type": "code",
   "execution_count": 13,
   "metadata": {},
   "outputs": [
    {
     "name": "stderr",
     "output_type": "stream",
     "text": [
      "Using 16bit Automatic Mixed Precision (AMP)\n",
      "GPU available: True (cuda), used: True\n",
      "TPU available: False, using: 0 TPU cores\n",
      "IPU available: False, using: 0 IPUs\n",
      "HPU available: False, using: 0 HPUs\n"
     ]
    }
   ],
   "source": [
    "wandb_logger = WandbLogger(\n",
    "    project=\"hls_burn_scars\", \n",
    "    log_model=True, # True or 'all'\n",
    "    save_dir = \"wandb_logs\"\n",
    ")\n",
    "\n",
    "trainer = lightning.Trainer(\n",
    "    # accelerator=\"gpu\", \n",
    "    # devices=[0], \n",
    "    logger=wandb_logger, \n",
    "    max_epochs=20, \n",
    "    precision=\"16-mixed\"\n",
    ")"
   ]
  },
  {
   "cell_type": "code",
   "execution_count": 14,
   "metadata": {},
   "outputs": [
    {
     "name": "stderr",
     "output_type": "stream",
     "text": [
      "Failed to detect the name of this notebook, you can set it manually with the WANDB_NOTEBOOK_NAME environment variable to enable code saving.\n",
      "\u001b[34m\u001b[1mwandb\u001b[0m: Currently logged in as: \u001b[33mrobmarkcole\u001b[0m. Use \u001b[1m`wandb login --relogin`\u001b[0m to force relogin\n"
     ]
    },
    {
     "data": {
      "text/html": [
       "Tracking run with wandb version 0.16.1"
      ],
      "text/plain": [
       "<IPython.core.display.HTML object>"
      ]
     },
     "metadata": {},
     "output_type": "display_data"
    },
    {
     "data": {
      "text/html": [
       "Run data is saved locally in <code>wandb_logs/wandb/run-20231212_093135-yuuii1cq</code>"
      ],
      "text/plain": [
       "<IPython.core.display.HTML object>"
      ]
     },
     "metadata": {},
     "output_type": "display_data"
    },
    {
     "data": {
      "text/html": [
       "Syncing run <strong><a href='https://wandb.ai/robmarkcole/hls_burn_scars/runs/yuuii1cq' target=\"_blank\">devout-surf-1</a></strong> to <a href='https://wandb.ai/robmarkcole/hls_burn_scars' target=\"_blank\">Weights & Biases</a> (<a href='https://wandb.me/run' target=\"_blank\">docs</a>)<br/>"
      ],
      "text/plain": [
       "<IPython.core.display.HTML object>"
      ]
     },
     "metadata": {},
     "output_type": "display_data"
    },
    {
     "data": {
      "text/html": [
       " View project at <a href='https://wandb.ai/robmarkcole/hls_burn_scars' target=\"_blank\">https://wandb.ai/robmarkcole/hls_burn_scars</a>"
      ],
      "text/plain": [
       "<IPython.core.display.HTML object>"
      ]
     },
     "metadata": {},
     "output_type": "display_data"
    },
    {
     "data": {
      "text/html": [
       " View run at <a href='https://wandb.ai/robmarkcole/hls_burn_scars/runs/yuuii1cq' target=\"_blank\">https://wandb.ai/robmarkcole/hls_burn_scars/runs/yuuii1cq</a>"
      ],
      "text/plain": [
       "<IPython.core.display.HTML object>"
      ]
     },
     "metadata": {},
     "output_type": "display_data"
    },
    {
     "name": "stderr",
     "output_type": "stream",
     "text": [
      "LOCAL_RANK: 0 - CUDA_VISIBLE_DEVICES: [0]\n",
      "\n",
      "  | Name          | Type                  | Params\n",
      "--------------------------------------------------------\n",
      "0 | criterion     | FocalJaccardLoss      | 0     \n",
      "1 | train_metrics | MetricCollection      | 0     \n",
      "2 | val_metrics   | MetricCollection      | 0     \n",
      "3 | test_metrics  | MetricCollection      | 0     \n",
      "4 | model         | PrithviEncoderDecoder | 113 M \n",
      "--------------------------------------------------------\n",
      "112 M     Trainable params\n",
      "252 K     Non-trainable params\n",
      "113 M     Total params\n",
      "452.012   Total estimated model params size (MB)\n"
     ]
    },
    {
     "data": {
      "application/vnd.jupyter.widget-view+json": {
       "model_id": "9dd0251dfaf5410f96f6b0c11d541688",
       "version_major": 2,
       "version_minor": 0
      },
      "text/plain": [
       "Sanity Checking: |          | 0/? [00:00<?, ?it/s]"
      ]
     },
     "metadata": {},
     "output_type": "display_data"
    },
    {
     "data": {
      "application/vnd.jupyter.widget-view+json": {
       "model_id": "a3c0609a31074c2ba03274d09836f9f4",
       "version_major": 2,
       "version_minor": 0
      },
      "text/plain": [
       "Training: |          | 0/? [00:00<?, ?it/s]"
      ]
     },
     "metadata": {},
     "output_type": "display_data"
    },
    {
     "data": {
      "application/vnd.jupyter.widget-view+json": {
       "model_id": "53b03ab9bad948d996d182c66ec13055",
       "version_major": 2,
       "version_minor": 0
      },
      "text/plain": [
       "Validation: |          | 0/? [00:00<?, ?it/s]"
      ]
     },
     "metadata": {},
     "output_type": "display_data"
    },
    {
     "data": {
      "application/vnd.jupyter.widget-view+json": {
       "model_id": "1377603225e547f286047fc48454aa98",
       "version_major": 2,
       "version_minor": 0
      },
      "text/plain": [
       "Validation: |          | 0/? [00:00<?, ?it/s]"
      ]
     },
     "metadata": {},
     "output_type": "display_data"
    },
    {
     "data": {
      "application/vnd.jupyter.widget-view+json": {
       "model_id": "72725391448748888ce197784f0c2d23",
       "version_major": 2,
       "version_minor": 0
      },
      "text/plain": [
       "Validation: |          | 0/? [00:00<?, ?it/s]"
      ]
     },
     "metadata": {},
     "output_type": "display_data"
    },
    {
     "data": {
      "application/vnd.jupyter.widget-view+json": {
       "model_id": "c7f6511cb89740289066aa34bfd5351d",
       "version_major": 2,
       "version_minor": 0
      },
      "text/plain": [
       "Validation: |          | 0/? [00:00<?, ?it/s]"
      ]
     },
     "metadata": {},
     "output_type": "display_data"
    },
    {
     "data": {
      "application/vnd.jupyter.widget-view+json": {
       "model_id": "14511e92c9644c90b65a722e2b0d9b21",
       "version_major": 2,
       "version_minor": 0
      },
      "text/plain": [
       "Validation: |          | 0/? [00:00<?, ?it/s]"
      ]
     },
     "metadata": {},
     "output_type": "display_data"
    },
    {
     "data": {
      "application/vnd.jupyter.widget-view+json": {
       "model_id": "9795d7fa4ac740b0b7e50cdfa82b3b85",
       "version_major": 2,
       "version_minor": 0
      },
      "text/plain": [
       "Validation: |          | 0/? [00:00<?, ?it/s]"
      ]
     },
     "metadata": {},
     "output_type": "display_data"
    },
    {
     "data": {
      "application/vnd.jupyter.widget-view+json": {
       "model_id": "42c0290e5500479fafd08f09e7b7e8cd",
       "version_major": 2,
       "version_minor": 0
      },
      "text/plain": [
       "Validation: |          | 0/? [00:00<?, ?it/s]"
      ]
     },
     "metadata": {},
     "output_type": "display_data"
    },
    {
     "data": {
      "application/vnd.jupyter.widget-view+json": {
       "model_id": "81c7293a650946ac8eea98233c5a906e",
       "version_major": 2,
       "version_minor": 0
      },
      "text/plain": [
       "Validation: |          | 0/? [00:00<?, ?it/s]"
      ]
     },
     "metadata": {},
     "output_type": "display_data"
    },
    {
     "data": {
      "application/vnd.jupyter.widget-view+json": {
       "model_id": "6b034b86c9c64c7e840822ff76338ebb",
       "version_major": 2,
       "version_minor": 0
      },
      "text/plain": [
       "Validation: |          | 0/? [00:00<?, ?it/s]"
      ]
     },
     "metadata": {},
     "output_type": "display_data"
    },
    {
     "data": {
      "application/vnd.jupyter.widget-view+json": {
       "model_id": "fd214ba84f5e4561946cc50899dd7f63",
       "version_major": 2,
       "version_minor": 0
      },
      "text/plain": [
       "Validation: |          | 0/? [00:00<?, ?it/s]"
      ]
     },
     "metadata": {},
     "output_type": "display_data"
    },
    {
     "data": {
      "application/vnd.jupyter.widget-view+json": {
       "model_id": "5639230337b04de9b636947c176c7304",
       "version_major": 2,
       "version_minor": 0
      },
      "text/plain": [
       "Validation: |          | 0/? [00:00<?, ?it/s]"
      ]
     },
     "metadata": {},
     "output_type": "display_data"
    },
    {
     "data": {
      "application/vnd.jupyter.widget-view+json": {
       "model_id": "eb1fe3f624bf46748326e28a291504d8",
       "version_major": 2,
       "version_minor": 0
      },
      "text/plain": [
       "Validation: |          | 0/? [00:00<?, ?it/s]"
      ]
     },
     "metadata": {},
     "output_type": "display_data"
    },
    {
     "data": {
      "application/vnd.jupyter.widget-view+json": {
       "model_id": "15e42b10e11e483d8727fb3e80e6a85e",
       "version_major": 2,
       "version_minor": 0
      },
      "text/plain": [
       "Validation: |          | 0/? [00:00<?, ?it/s]"
      ]
     },
     "metadata": {},
     "output_type": "display_data"
    },
    {
     "data": {
      "application/vnd.jupyter.widget-view+json": {
       "model_id": "3a8e4ca164064f12931bf5357413a33b",
       "version_major": 2,
       "version_minor": 0
      },
      "text/plain": [
       "Validation: |          | 0/? [00:00<?, ?it/s]"
      ]
     },
     "metadata": {},
     "output_type": "display_data"
    },
    {
     "data": {
      "application/vnd.jupyter.widget-view+json": {
       "model_id": "20db18c74f784cfd967e799a68fd6241",
       "version_major": 2,
       "version_minor": 0
      },
      "text/plain": [
       "Validation: |          | 0/? [00:00<?, ?it/s]"
      ]
     },
     "metadata": {},
     "output_type": "display_data"
    },
    {
     "data": {
      "application/vnd.jupyter.widget-view+json": {
       "model_id": "9a60cea529f844549d845dc575c82efe",
       "version_major": 2,
       "version_minor": 0
      },
      "text/plain": [
       "Validation: |          | 0/? [00:00<?, ?it/s]"
      ]
     },
     "metadata": {},
     "output_type": "display_data"
    },
    {
     "data": {
      "application/vnd.jupyter.widget-view+json": {
       "model_id": "cfdbdfdc15b14bc79127e5ffd81c88a8",
       "version_major": 2,
       "version_minor": 0
      },
      "text/plain": [
       "Validation: |          | 0/? [00:00<?, ?it/s]"
      ]
     },
     "metadata": {},
     "output_type": "display_data"
    },
    {
     "data": {
      "application/vnd.jupyter.widget-view+json": {
       "model_id": "5b270d61f213449e89eca39141bfe4cb",
       "version_major": 2,
       "version_minor": 0
      },
      "text/plain": [
       "Validation: |          | 0/? [00:00<?, ?it/s]"
      ]
     },
     "metadata": {},
     "output_type": "display_data"
    },
    {
     "data": {
      "application/vnd.jupyter.widget-view+json": {
       "model_id": "b3b787fee48740d38887d8bca278c5b1",
       "version_major": 2,
       "version_minor": 0
      },
      "text/plain": [
       "Validation: |          | 0/? [00:00<?, ?it/s]"
      ]
     },
     "metadata": {},
     "output_type": "display_data"
    },
    {
     "data": {
      "application/vnd.jupyter.widget-view+json": {
       "model_id": "c1fb11186cf2438cb964c5bb93351e3d",
       "version_major": 2,
       "version_minor": 0
      },
      "text/plain": [
       "Validation: |          | 0/? [00:00<?, ?it/s]"
      ]
     },
     "metadata": {},
     "output_type": "display_data"
    },
    {
     "name": "stderr",
     "output_type": "stream",
     "text": [
      "`Trainer.fit` stopped: `max_epochs=20` reached.\n"
     ]
    }
   ],
   "source": [
    "trainer.fit(model=module, datamodule=datamodule)"
   ]
  },
  {
   "cell_type": "code",
   "execution_count": 15,
   "metadata": {},
   "outputs": [
    {
     "name": "stderr",
     "output_type": "stream",
     "text": [
      "/home/zeus/miniconda3/envs/cloudspace/lib/python3.10/site-packages/lightning/pytorch/trainer/connectors/checkpoint_connector.py:145: `.test(ckpt_path=None)` was called without a model. The best model of the previous `fit` call will be used. You can pass `.test(ckpt_path='best')` to use the best model or `.test(ckpt_path='last')` to use the last model. If you pass a value, this warning will be silenced.\n",
      "Restoring states from the checkpoint path at wandb_logs/hls_burn_scars/yuuii1cq/checkpoints/epoch=19-step=1360.ckpt\n",
      "LOCAL_RANK: 0 - CUDA_VISIBLE_DEVICES: [0]\n",
      "Loaded model weights from the checkpoint at wandb_logs/hls_burn_scars/yuuii1cq/checkpoints/epoch=19-step=1360.ckpt\n"
     ]
    },
    {
     "data": {
      "application/vnd.jupyter.widget-view+json": {
       "model_id": "75cb6f2f967d42d79309481473c506ed",
       "version_major": 2,
       "version_minor": 0
      },
      "text/plain": [
       "Testing: |          | 0/? [00:00<?, ?it/s]"
      ]
     },
     "metadata": {},
     "output_type": "display_data"
    },
    {
     "data": {
      "text/html": [
       "<pre style=\"white-space:pre;overflow-x:auto;line-height:normal;font-family:Menlo,'DejaVu Sans Mono',consolas,'Courier New',monospace\">┏━━━━━━━━━━━━━━━━━━━━━━━━━━━━━━━┳━━━━━━━━━━━━━━━━━━━━━━━━━━━━━━━┓\n",
       "┃<span style=\"font-weight: bold\">          Test metric          </span>┃<span style=\"font-weight: bold\">         DataLoader 0          </span>┃\n",
       "┡━━━━━━━━━━━━━━━━━━━━━━━━━━━━━━━╇━━━━━━━━━━━━━━━━━━━━━━━━━━━━━━━┩\n",
       "│<span style=\"color: #008080; text-decoration-color: #008080\">     test_AverageAccuracy      </span>│<span style=\"color: #800080; text-decoration-color: #800080\">      0.7224149703979492       </span>│\n",
       "│<span style=\"color: #008080; text-decoration-color: #008080\">      test_AverageF1Score      </span>│<span style=\"color: #800080; text-decoration-color: #800080\">       0.726572573184967       </span>│\n",
       "│<span style=\"color: #008080; text-decoration-color: #008080\">        test_AverageIoU        </span>│<span style=\"color: #800080; text-decoration-color: #800080\">      0.6136078238487244       </span>│\n",
       "│<span style=\"color: #008080; text-decoration-color: #008080\">     test_OverallAccuracy      </span>│<span style=\"color: #800080; text-decoration-color: #800080\">       0.882714569568634       </span>│\n",
       "│<span style=\"color: #008080; text-decoration-color: #008080\">      test_OverallF1Score      </span>│<span style=\"color: #800080; text-decoration-color: #800080\">       0.882714569568634       </span>│\n",
       "│<span style=\"color: #008080; text-decoration-color: #008080\">        test_OverallIoU        </span>│<span style=\"color: #800080; text-decoration-color: #800080\">      0.7904269695281982       </span>│\n",
       "│<span style=\"color: #008080; text-decoration-color: #008080\">           test_loss           </span>│<span style=\"color: #800080; text-decoration-color: #800080\">      0.47349023818969727      </span>│\n",
       "│<span style=\"color: #008080; text-decoration-color: #008080\">   test_multiclassaccuracy_0   </span>│<span style=\"color: #800080; text-decoration-color: #800080\">      0.9348142147064209       </span>│\n",
       "│<span style=\"color: #008080; text-decoration-color: #008080\">   test_multiclassaccuracy_1   </span>│<span style=\"color: #800080; text-decoration-color: #800080\">       0.510015606880188       </span>│\n",
       "│<span style=\"color: #008080; text-decoration-color: #008080\">  test_multiclassfbetascore_0  </span>│<span style=\"color: #800080; text-decoration-color: #800080\">       0.932672917842865       </span>│\n",
       "│<span style=\"color: #008080; text-decoration-color: #008080\">  test_multiclassfbetascore_1  </span>│<span style=\"color: #800080; text-decoration-color: #800080\">      0.5204724669456482       </span>│\n",
       "│<span style=\"color: #008080; text-decoration-color: #008080\"> test_multiclassjaccardindex_0 </span>│<span style=\"color: #800080; text-decoration-color: #800080\">      0.8740494251251221       </span>│\n",
       "│<span style=\"color: #008080; text-decoration-color: #008080\"> test_multiclassjaccardindex_1 </span>│<span style=\"color: #800080; text-decoration-color: #800080\">      0.3531661331653595       </span>│\n",
       "└───────────────────────────────┴───────────────────────────────┘\n",
       "</pre>\n"
      ],
      "text/plain": [
       "┏━━━━━━━━━━━━━━━━━━━━━━━━━━━━━━━┳━━━━━━━━━━━━━━━━━━━━━━━━━━━━━━━┓\n",
       "┃\u001b[1m \u001b[0m\u001b[1m         Test metric         \u001b[0m\u001b[1m \u001b[0m┃\u001b[1m \u001b[0m\u001b[1m        DataLoader 0         \u001b[0m\u001b[1m \u001b[0m┃\n",
       "┡━━━━━━━━━━━━━━━━━━━━━━━━━━━━━━━╇━━━━━━━━━━━━━━━━━━━━━━━━━━━━━━━┩\n",
       "│\u001b[36m \u001b[0m\u001b[36m    test_AverageAccuracy     \u001b[0m\u001b[36m \u001b[0m│\u001b[35m \u001b[0m\u001b[35m     0.7224149703979492      \u001b[0m\u001b[35m \u001b[0m│\n",
       "│\u001b[36m \u001b[0m\u001b[36m     test_AverageF1Score     \u001b[0m\u001b[36m \u001b[0m│\u001b[35m \u001b[0m\u001b[35m      0.726572573184967      \u001b[0m\u001b[35m \u001b[0m│\n",
       "│\u001b[36m \u001b[0m\u001b[36m       test_AverageIoU       \u001b[0m\u001b[36m \u001b[0m│\u001b[35m \u001b[0m\u001b[35m     0.6136078238487244      \u001b[0m\u001b[35m \u001b[0m│\n",
       "│\u001b[36m \u001b[0m\u001b[36m    test_OverallAccuracy     \u001b[0m\u001b[36m \u001b[0m│\u001b[35m \u001b[0m\u001b[35m      0.882714569568634      \u001b[0m\u001b[35m \u001b[0m│\n",
       "│\u001b[36m \u001b[0m\u001b[36m     test_OverallF1Score     \u001b[0m\u001b[36m \u001b[0m│\u001b[35m \u001b[0m\u001b[35m      0.882714569568634      \u001b[0m\u001b[35m \u001b[0m│\n",
       "│\u001b[36m \u001b[0m\u001b[36m       test_OverallIoU       \u001b[0m\u001b[36m \u001b[0m│\u001b[35m \u001b[0m\u001b[35m     0.7904269695281982      \u001b[0m\u001b[35m \u001b[0m│\n",
       "│\u001b[36m \u001b[0m\u001b[36m          test_loss          \u001b[0m\u001b[36m \u001b[0m│\u001b[35m \u001b[0m\u001b[35m     0.47349023818969727     \u001b[0m\u001b[35m \u001b[0m│\n",
       "│\u001b[36m \u001b[0m\u001b[36m  test_multiclassaccuracy_0  \u001b[0m\u001b[36m \u001b[0m│\u001b[35m \u001b[0m\u001b[35m     0.9348142147064209      \u001b[0m\u001b[35m \u001b[0m│\n",
       "│\u001b[36m \u001b[0m\u001b[36m  test_multiclassaccuracy_1  \u001b[0m\u001b[36m \u001b[0m│\u001b[35m \u001b[0m\u001b[35m      0.510015606880188      \u001b[0m\u001b[35m \u001b[0m│\n",
       "│\u001b[36m \u001b[0m\u001b[36m test_multiclassfbetascore_0 \u001b[0m\u001b[36m \u001b[0m│\u001b[35m \u001b[0m\u001b[35m      0.932672917842865      \u001b[0m\u001b[35m \u001b[0m│\n",
       "│\u001b[36m \u001b[0m\u001b[36m test_multiclassfbetascore_1 \u001b[0m\u001b[36m \u001b[0m│\u001b[35m \u001b[0m\u001b[35m     0.5204724669456482      \u001b[0m\u001b[35m \u001b[0m│\n",
       "│\u001b[36m \u001b[0m\u001b[36mtest_multiclassjaccardindex_0\u001b[0m\u001b[36m \u001b[0m│\u001b[35m \u001b[0m\u001b[35m     0.8740494251251221      \u001b[0m\u001b[35m \u001b[0m│\n",
       "│\u001b[36m \u001b[0m\u001b[36mtest_multiclassjaccardindex_1\u001b[0m\u001b[36m \u001b[0m│\u001b[35m \u001b[0m\u001b[35m     0.3531661331653595      \u001b[0m\u001b[35m \u001b[0m│\n",
       "└───────────────────────────────┴───────────────────────────────┘\n"
      ]
     },
     "metadata": {},
     "output_type": "display_data"
    },
    {
     "data": {
      "text/plain": [
       "[{'test_loss': 0.47349023818969727,\n",
       "  'test_multiclassaccuracy_0': 0.9348142147064209,\n",
       "  'test_multiclassaccuracy_1': 0.510015606880188,\n",
       "  'test_AverageAccuracy': 0.7224149703979492,\n",
       "  'test_AverageF1Score': 0.726572573184967,\n",
       "  'test_AverageIoU': 0.6136078238487244,\n",
       "  'test_multiclassfbetascore_0': 0.932672917842865,\n",
       "  'test_multiclassfbetascore_1': 0.5204724669456482,\n",
       "  'test_multiclassjaccardindex_0': 0.8740494251251221,\n",
       "  'test_multiclassjaccardindex_1': 0.3531661331653595,\n",
       "  'test_OverallAccuracy': 0.882714569568634,\n",
       "  'test_OverallF1Score': 0.882714569568634,\n",
       "  'test_OverallIoU': 0.7904269695281982}]"
      ]
     },
     "execution_count": 15,
     "metadata": {},
     "output_type": "execute_result"
    }
   ],
   "source": [
    "trainer.test(datamodule=datamodule)"
   ]
  },
  {
   "cell_type": "code",
   "execution_count": null,
   "metadata": {},
   "outputs": [],
   "source": [
    "wandb.finish()"
   ]
  }
 ],
 "metadata": {
  "kernelspec": {
   "display_name": "torchenv",
   "language": "python",
   "name": "python3"
  },
  "language_info": {
   "codemirror_mode": {
    "name": "ipython",
    "version": 3
   },
   "file_extension": ".py",
   "mimetype": "text/x-python",
   "name": "python",
   "nbconvert_exporter": "python",
   "pygments_lexer": "ipython3",
   "version": "3.10.10"
  }
 },
 "nbformat": 4,
 "nbformat_minor": 2
}
